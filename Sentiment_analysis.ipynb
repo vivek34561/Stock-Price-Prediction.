{
 "cells": [
  {
   "cell_type": "code",
   "execution_count": 1,
   "id": "69cefda4",
   "metadata": {},
   "outputs": [],
   "source": [
    "import pandas as pd\n",
    "import numpy as np\n"
   ]
  },
  {
   "cell_type": "code",
   "execution_count": 2,
   "id": "b9ce787c",
   "metadata": {},
   "outputs": [
    {
     "data": {
      "text/html": [
       "<div>\n",
       "<style scoped>\n",
       "    .dataframe tbody tr th:only-of-type {\n",
       "        vertical-align: middle;\n",
       "    }\n",
       "\n",
       "    .dataframe tbody tr th {\n",
       "        vertical-align: top;\n",
       "    }\n",
       "\n",
       "    .dataframe thead th {\n",
       "        text-align: right;\n",
       "    }\n",
       "</style>\n",
       "<table border=\"1\" class=\"dataframe\">\n",
       "  <thead>\n",
       "    <tr style=\"text-align: right;\">\n",
       "      <th></th>\n",
       "      <th>Headline</th>\n",
       "      <th>Date</th>\n",
       "    </tr>\n",
       "  </thead>\n",
       "  <tbody>\n",
       "    <tr>\n",
       "      <th>0</th>\n",
       "      <td>Apple (AAPL) Faces Potential 20% EPS Reduction...</td>\n",
       "      <td>2025-05-20</td>\n",
       "    </tr>\n",
       "    <tr>\n",
       "      <th>1</th>\n",
       "      <td>Apple (AAPL) Faces Challenges from Epic Games ...</td>\n",
       "      <td>2025-05-20</td>\n",
       "    </tr>\n",
       "    <tr>\n",
       "      <th>2</th>\n",
       "      <td>Apple Unwittingly Powered The Rise of Rivals H...</td>\n",
       "      <td>2025-05-20</td>\n",
       "    </tr>\n",
       "    <tr>\n",
       "      <th>3</th>\n",
       "      <td>Apple (AAPL) Boosts iPhone Production in India...</td>\n",
       "      <td>2025-05-20</td>\n",
       "    </tr>\n",
       "    <tr>\n",
       "      <th>4</th>\n",
       "      <td>Apple Advances AI Chatbot Development, Rivals ...</td>\n",
       "      <td>2025-05-19</td>\n",
       "    </tr>\n",
       "  </tbody>\n",
       "</table>\n",
       "</div>"
      ],
      "text/plain": [
       "                                            Headline        Date\n",
       "0  Apple (AAPL) Faces Potential 20% EPS Reduction...  2025-05-20\n",
       "1  Apple (AAPL) Faces Challenges from Epic Games ...  2025-05-20\n",
       "2  Apple Unwittingly Powered The Rise of Rivals H...  2025-05-20\n",
       "3  Apple (AAPL) Boosts iPhone Production in India...  2025-05-20\n",
       "4  Apple Advances AI Chatbot Development, Rivals ...  2025-05-19"
      ]
     },
     "execution_count": 2,
     "metadata": {},
     "output_type": "execute_result"
    }
   ],
   "source": [
    "df = pd.read_csv('cleaned_news_data.csv')\n",
    "df.head()"
   ]
  },
  {
   "cell_type": "code",
   "execution_count": 3,
   "id": "ef1fc38d",
   "metadata": {},
   "outputs": [],
   "source": [
    "#lowercase all headlines for consistency\n",
    "df['Headline'] = df['Headline'].str.lower()"
   ]
  },
  {
   "cell_type": "code",
   "execution_count": 4,
   "id": "51e56fef",
   "metadata": {},
   "outputs": [
    {
     "data": {
      "text/html": [
       "<div>\n",
       "<style scoped>\n",
       "    .dataframe tbody tr th:only-of-type {\n",
       "        vertical-align: middle;\n",
       "    }\n",
       "\n",
       "    .dataframe tbody tr th {\n",
       "        vertical-align: top;\n",
       "    }\n",
       "\n",
       "    .dataframe thead th {\n",
       "        text-align: right;\n",
       "    }\n",
       "</style>\n",
       "<table border=\"1\" class=\"dataframe\">\n",
       "  <thead>\n",
       "    <tr style=\"text-align: right;\">\n",
       "      <th></th>\n",
       "      <th>Headline</th>\n",
       "      <th>Date</th>\n",
       "    </tr>\n",
       "  </thead>\n",
       "  <tbody>\n",
       "    <tr>\n",
       "      <th>0</th>\n",
       "      <td>apple (aapl) faces potential 20% eps reduction...</td>\n",
       "      <td>2025-05-20</td>\n",
       "    </tr>\n",
       "    <tr>\n",
       "      <th>1</th>\n",
       "      <td>apple (aapl) faces challenges from epic games ...</td>\n",
       "      <td>2025-05-20</td>\n",
       "    </tr>\n",
       "    <tr>\n",
       "      <th>2</th>\n",
       "      <td>apple unwittingly powered the rise of rivals h...</td>\n",
       "      <td>2025-05-20</td>\n",
       "    </tr>\n",
       "    <tr>\n",
       "      <th>3</th>\n",
       "      <td>apple (aapl) boosts iphone production in india...</td>\n",
       "      <td>2025-05-20</td>\n",
       "    </tr>\n",
       "    <tr>\n",
       "      <th>4</th>\n",
       "      <td>apple advances ai chatbot development, rivals ...</td>\n",
       "      <td>2025-05-19</td>\n",
       "    </tr>\n",
       "  </tbody>\n",
       "</table>\n",
       "</div>"
      ],
      "text/plain": [
       "                                            Headline        Date\n",
       "0  apple (aapl) faces potential 20% eps reduction...  2025-05-20\n",
       "1  apple (aapl) faces challenges from epic games ...  2025-05-20\n",
       "2  apple unwittingly powered the rise of rivals h...  2025-05-20\n",
       "3  apple (aapl) boosts iphone production in india...  2025-05-20\n",
       "4  apple advances ai chatbot development, rivals ...  2025-05-19"
      ]
     },
     "execution_count": 4,
     "metadata": {},
     "output_type": "execute_result"
    }
   ],
   "source": [
    "df.head()"
   ]
  },
  {
   "cell_type": "code",
   "execution_count": 5,
   "id": "60171deb",
   "metadata": {},
   "outputs": [],
   "source": [
    "# remove html\n",
    "\n",
    "import re\n",
    "def remove_html_tags(text):\n",
    "    pattern = re.compile('<.*?>')\n",
    "    return pattern.sub(r'' , text)\n",
    "\n",
    "df['Headline'] = df['Headline'].apply(remove_html_tags)"
   ]
  },
  {
   "cell_type": "code",
   "execution_count": 6,
   "id": "6ab9c861",
   "metadata": {},
   "outputs": [
    {
     "data": {
      "text/html": [
       "<div>\n",
       "<style scoped>\n",
       "    .dataframe tbody tr th:only-of-type {\n",
       "        vertical-align: middle;\n",
       "    }\n",
       "\n",
       "    .dataframe tbody tr th {\n",
       "        vertical-align: top;\n",
       "    }\n",
       "\n",
       "    .dataframe thead th {\n",
       "        text-align: right;\n",
       "    }\n",
       "</style>\n",
       "<table border=\"1\" class=\"dataframe\">\n",
       "  <thead>\n",
       "    <tr style=\"text-align: right;\">\n",
       "      <th></th>\n",
       "      <th>Headline</th>\n",
       "      <th>Date</th>\n",
       "    </tr>\n",
       "  </thead>\n",
       "  <tbody>\n",
       "    <tr>\n",
       "      <th>0</th>\n",
       "      <td>apple (aapl) faces potential 20% eps reduction...</td>\n",
       "      <td>2025-05-20</td>\n",
       "    </tr>\n",
       "    <tr>\n",
       "      <th>1</th>\n",
       "      <td>apple (aapl) faces challenges from epic games ...</td>\n",
       "      <td>2025-05-20</td>\n",
       "    </tr>\n",
       "    <tr>\n",
       "      <th>2</th>\n",
       "      <td>apple unwittingly powered the rise of rivals h...</td>\n",
       "      <td>2025-05-20</td>\n",
       "    </tr>\n",
       "    <tr>\n",
       "      <th>3</th>\n",
       "      <td>apple (aapl) boosts iphone production in india...</td>\n",
       "      <td>2025-05-20</td>\n",
       "    </tr>\n",
       "    <tr>\n",
       "      <th>4</th>\n",
       "      <td>apple advances ai chatbot development, rivals ...</td>\n",
       "      <td>2025-05-19</td>\n",
       "    </tr>\n",
       "  </tbody>\n",
       "</table>\n",
       "</div>"
      ],
      "text/plain": [
       "                                            Headline        Date\n",
       "0  apple (aapl) faces potential 20% eps reduction...  2025-05-20\n",
       "1  apple (aapl) faces challenges from epic games ...  2025-05-20\n",
       "2  apple unwittingly powered the rise of rivals h...  2025-05-20\n",
       "3  apple (aapl) boosts iphone production in india...  2025-05-20\n",
       "4  apple advances ai chatbot development, rivals ...  2025-05-19"
      ]
     },
     "execution_count": 6,
     "metadata": {},
     "output_type": "execute_result"
    }
   ],
   "source": [
    "df.head()"
   ]
  },
  {
   "cell_type": "code",
   "execution_count": 7,
   "id": "2de7d04e",
   "metadata": {},
   "outputs": [],
   "source": [
    "# remove url\n",
    "def remove_url(text):\n",
    "    pattern = re.compile(r'https?://\\S+|www\\.\\S+')\n",
    "    return pattern.sub(r'' , text)\n",
    "df['Headline'] = df['Headline'].apply(remove_url)\n"
   ]
  },
  {
   "cell_type": "code",
   "execution_count": 8,
   "id": "abd2c73e",
   "metadata": {},
   "outputs": [
    {
     "data": {
      "text/plain": [
       "(4403, 2)"
      ]
     },
     "execution_count": 8,
     "metadata": {},
     "output_type": "execute_result"
    }
   ],
   "source": [
    "df.shape"
   ]
  },
  {
   "cell_type": "code",
   "execution_count": 9,
   "id": "7316d403",
   "metadata": {},
   "outputs": [],
   "source": [
    "#remove punctuation\n",
    "import string , time\n",
    "string.punctuation\n",
    "exclude = string.punctuation\n",
    "\n",
    "def remove_punc1(text):\n",
    "    return text.translate(str.maketrans('' , '' , exclude))\n",
    "\n",
    "df['Headline'] = df['Headline'].apply(remove_punc1)"
   ]
  },
  {
   "cell_type": "code",
   "execution_count": 10,
   "id": "b8cce1ff",
   "metadata": {},
   "outputs": [
    {
     "data": {
      "text/html": [
       "<div>\n",
       "<style scoped>\n",
       "    .dataframe tbody tr th:only-of-type {\n",
       "        vertical-align: middle;\n",
       "    }\n",
       "\n",
       "    .dataframe tbody tr th {\n",
       "        vertical-align: top;\n",
       "    }\n",
       "\n",
       "    .dataframe thead th {\n",
       "        text-align: right;\n",
       "    }\n",
       "</style>\n",
       "<table border=\"1\" class=\"dataframe\">\n",
       "  <thead>\n",
       "    <tr style=\"text-align: right;\">\n",
       "      <th></th>\n",
       "      <th>Headline</th>\n",
       "      <th>Date</th>\n",
       "    </tr>\n",
       "  </thead>\n",
       "  <tbody>\n",
       "    <tr>\n",
       "      <th>0</th>\n",
       "      <td>apple aapl faces potential 20 eps reduction am...</td>\n",
       "      <td>2025-05-20</td>\n",
       "    </tr>\n",
       "    <tr>\n",
       "      <th>1</th>\n",
       "      <td>apple aapl faces challenges from epic games la...</td>\n",
       "      <td>2025-05-20</td>\n",
       "    </tr>\n",
       "    <tr>\n",
       "      <th>2</th>\n",
       "      <td>apple unwittingly powered the rise of rivals h...</td>\n",
       "      <td>2025-05-20</td>\n",
       "    </tr>\n",
       "    <tr>\n",
       "      <th>3</th>\n",
       "      <td>apple aapl boosts iphone production in india a...</td>\n",
       "      <td>2025-05-20</td>\n",
       "    </tr>\n",
       "    <tr>\n",
       "      <th>4</th>\n",
       "      <td>apple advances ai chatbot development rivals c...</td>\n",
       "      <td>2025-05-19</td>\n",
       "    </tr>\n",
       "  </tbody>\n",
       "</table>\n",
       "</div>"
      ],
      "text/plain": [
       "                                            Headline        Date\n",
       "0  apple aapl faces potential 20 eps reduction am...  2025-05-20\n",
       "1  apple aapl faces challenges from epic games la...  2025-05-20\n",
       "2  apple unwittingly powered the rise of rivals h...  2025-05-20\n",
       "3  apple aapl boosts iphone production in india a...  2025-05-20\n",
       "4  apple advances ai chatbot development rivals c...  2025-05-19"
      ]
     },
     "execution_count": 10,
     "metadata": {},
     "output_type": "execute_result"
    }
   ],
   "source": [
    "df.head()\n"
   ]
  },
  {
   "cell_type": "code",
   "execution_count": 11,
   "id": "022b964b",
   "metadata": {},
   "outputs": [
    {
     "data": {
      "text/plain": [
       "(4403, 2)"
      ]
     },
     "execution_count": 11,
     "metadata": {},
     "output_type": "execute_result"
    }
   ],
   "source": [
    "df.shape"
   ]
  },
  {
   "cell_type": "code",
   "execution_count": 12,
   "id": "d5db1376",
   "metadata": {},
   "outputs": [
    {
     "name": "stderr",
     "output_type": "stream",
     "text": [
      "[nltk_data] Downloading package stopwords to C:\\Users\\vivek\n",
      "[nltk_data]     gupta\\AppData\\Roaming\\nltk_data...\n",
      "[nltk_data]   Package stopwords is already up-to-date!\n"
     ]
    }
   ],
   "source": [
    "#remove stopwords\n",
    "from nltk.corpus import stopwords\n",
    "import nltk\n",
    "\n",
    "\n",
    "\n",
    "\n",
    "# Make sure stopwords are downloaded\n",
    "nltk.download('stopwords')\n",
    "\n",
    "def remove_stopwords(text):\n",
    "    \"\"\"\n",
    "    Removes English stopwords from the given text.\n",
    "\n",
    "    Parameters:\n",
    "    text (str): Input string.\n",
    "\n",
    "    Returns:\n",
    "    str: Text without stopwords.\n",
    "    \"\"\"\n",
    "    stop_words = set(stopwords.words('english'))\n",
    "    words = text.split()\n",
    "    filtered_words = [word for word in words if word.lower() not in stop_words]\n",
    "    return ' '.join(filtered_words)\n",
    "\n",
    "\n",
    "df['Headline'] = df['Headline'].apply(remove_stopwords)\n"
   ]
  },
  {
   "cell_type": "code",
   "execution_count": 13,
   "id": "cefea5e9",
   "metadata": {},
   "outputs": [
    {
     "data": {
      "text/html": [
       "<div>\n",
       "<style scoped>\n",
       "    .dataframe tbody tr th:only-of-type {\n",
       "        vertical-align: middle;\n",
       "    }\n",
       "\n",
       "    .dataframe tbody tr th {\n",
       "        vertical-align: top;\n",
       "    }\n",
       "\n",
       "    .dataframe thead th {\n",
       "        text-align: right;\n",
       "    }\n",
       "</style>\n",
       "<table border=\"1\" class=\"dataframe\">\n",
       "  <thead>\n",
       "    <tr style=\"text-align: right;\">\n",
       "      <th></th>\n",
       "      <th>Headline</th>\n",
       "      <th>Date</th>\n",
       "    </tr>\n",
       "  </thead>\n",
       "  <tbody>\n",
       "    <tr>\n",
       "      <th>0</th>\n",
       "      <td>apple aapl faces potential 20 eps reduction am...</td>\n",
       "      <td>2025-05-20</td>\n",
       "    </tr>\n",
       "    <tr>\n",
       "      <th>1</th>\n",
       "      <td>apple aapl faces challenges epic games lawsuit...</td>\n",
       "      <td>2025-05-20</td>\n",
       "    </tr>\n",
       "    <tr>\n",
       "      <th>2</th>\n",
       "      <td>apple unwittingly powered rise rivals huawei x...</td>\n",
       "      <td>2025-05-20</td>\n",
       "    </tr>\n",
       "    <tr>\n",
       "      <th>3</th>\n",
       "      <td>apple aapl boosts iphone production india amid...</td>\n",
       "      <td>2025-05-20</td>\n",
       "    </tr>\n",
       "    <tr>\n",
       "      <th>4</th>\n",
       "      <td>apple advances ai chatbot development rivals c...</td>\n",
       "      <td>2025-05-19</td>\n",
       "    </tr>\n",
       "  </tbody>\n",
       "</table>\n",
       "</div>"
      ],
      "text/plain": [
       "                                            Headline        Date\n",
       "0  apple aapl faces potential 20 eps reduction am...  2025-05-20\n",
       "1  apple aapl faces challenges epic games lawsuit...  2025-05-20\n",
       "2  apple unwittingly powered rise rivals huawei x...  2025-05-20\n",
       "3  apple aapl boosts iphone production india amid...  2025-05-20\n",
       "4  apple advances ai chatbot development rivals c...  2025-05-19"
      ]
     },
     "execution_count": 13,
     "metadata": {},
     "output_type": "execute_result"
    }
   ],
   "source": [
    "df.head()"
   ]
  },
  {
   "cell_type": "code",
   "execution_count": 14,
   "id": "1794da9c",
   "metadata": {},
   "outputs": [],
   "source": [
    "import re\n",
    "\n",
    "def remove_emoji(text):\n",
    "    emoji_pattern = re.compile(\n",
    "        \"[\"\n",
    "        u\"\\U0001F600-\\U0001F64F\"  # emoticons\n",
    "        u\"\\U0001F300-\\U0001F5FF\"  # symbols & pictographs\n",
    "        u\"\\U0001F680-\\U0001F6FF\"  # transport & map symbols\n",
    "        u\"\\U0001F1E0-\\U0001F1FF\"  # flags (iOS)\n",
    "        u\"\\U00002702-\\U000027B0\"  # dingbats\n",
    "        u\"\\U000024C2-\\U0001F251\"  # enclosed characters\n",
    "        \"]+\", flags=re.UNICODE\n",
    "    )\n",
    "    return emoji_pattern.sub(r'', text)\n",
    "\n",
    "\n",
    "df['Headline'] = df['Headline'].apply(remove_emoji)\n",
    "\n"
   ]
  },
  {
   "cell_type": "code",
   "execution_count": 15,
   "id": "e497db4a",
   "metadata": {},
   "outputs": [
    {
     "data": {
      "text/plain": [
       "(4403, 2)"
      ]
     },
     "execution_count": 15,
     "metadata": {},
     "output_type": "execute_result"
    }
   ],
   "source": [
    "df.shape"
   ]
  },
  {
   "cell_type": "code",
   "execution_count": 16,
   "id": "30cc04ff",
   "metadata": {},
   "outputs": [
    {
     "data": {
      "text/html": [
       "<div>\n",
       "<style scoped>\n",
       "    .dataframe tbody tr th:only-of-type {\n",
       "        vertical-align: middle;\n",
       "    }\n",
       "\n",
       "    .dataframe tbody tr th {\n",
       "        vertical-align: top;\n",
       "    }\n",
       "\n",
       "    .dataframe thead th {\n",
       "        text-align: right;\n",
       "    }\n",
       "</style>\n",
       "<table border=\"1\" class=\"dataframe\">\n",
       "  <thead>\n",
       "    <tr style=\"text-align: right;\">\n",
       "      <th></th>\n",
       "      <th>Headline</th>\n",
       "      <th>Date</th>\n",
       "    </tr>\n",
       "  </thead>\n",
       "  <tbody>\n",
       "    <tr>\n",
       "      <th>0</th>\n",
       "      <td>apple aapl faces potential 20 eps reduction am...</td>\n",
       "      <td>2025-05-20</td>\n",
       "    </tr>\n",
       "    <tr>\n",
       "      <th>1</th>\n",
       "      <td>apple aapl faces challenges epic games lawsuit...</td>\n",
       "      <td>2025-05-20</td>\n",
       "    </tr>\n",
       "    <tr>\n",
       "      <th>2</th>\n",
       "      <td>apple unwittingly powered rise rivals huawei x...</td>\n",
       "      <td>2025-05-20</td>\n",
       "    </tr>\n",
       "    <tr>\n",
       "      <th>3</th>\n",
       "      <td>apple aapl boosts iphone production india amid...</td>\n",
       "      <td>2025-05-20</td>\n",
       "    </tr>\n",
       "    <tr>\n",
       "      <th>4</th>\n",
       "      <td>apple advances ai chatbot development rivals c...</td>\n",
       "      <td>2025-05-19</td>\n",
       "    </tr>\n",
       "  </tbody>\n",
       "</table>\n",
       "</div>"
      ],
      "text/plain": [
       "                                            Headline        Date\n",
       "0  apple aapl faces potential 20 eps reduction am...  2025-05-20\n",
       "1  apple aapl faces challenges epic games lawsuit...  2025-05-20\n",
       "2  apple unwittingly powered rise rivals huawei x...  2025-05-20\n",
       "3  apple aapl boosts iphone production india amid...  2025-05-20\n",
       "4  apple advances ai chatbot development rivals c...  2025-05-19"
      ]
     },
     "execution_count": 16,
     "metadata": {},
     "output_type": "execute_result"
    }
   ],
   "source": [
    "df.head()"
   ]
  },
  {
   "cell_type": "code",
   "execution_count": null,
   "id": "7c9d0d70",
   "metadata": {},
   "outputs": [
    {
     "name": "stderr",
     "output_type": "stream",
     "text": [
      "[nltk_data] Downloading package punkt to C:\\Users\\vivek\n",
      "[nltk_data]     gupta\\AppData\\Roaming\\nltk_data...\n",
      "[nltk_data]   Package punkt is already up-to-date!\n"
     ]
    },
    {
     "name": "stdout",
     "output_type": "stream",
     "text": [
      "                                               Headline        Date  \\\n",
      "0     apple aapl faces potential 20 eps reduction am...  2025-05-20   \n",
      "1     apple aapl faces challenges epic games lawsuit...  2025-05-20   \n",
      "2     apple unwittingly powered rise rivals huawei x...  2025-05-20   \n",
      "3     apple aapl boosts iphone production india amid...  2025-05-20   \n",
      "4     apple advances ai chatbot development rivals c...  2025-05-19   \n",
      "...                                                 ...         ...   \n",
      "4398  microscope apple stock thrive regulatory scrutiny  2024-04-03   \n",
      "4399          nvda unstoppable ai race buy nvidia stock  2024-04-03   \n",
      "4400                3 bluechip stock gems buy 500 april  2024-04-02   \n",
      "4401                                       stocks today  2024-04-02   \n",
      "4402  stock stinkers 3 warren buffett holdings disap...  2024-04-02   \n",
      "\n",
      "                                        Headline_tokens  \n",
      "0     [apple, aapl, faces, potential, 20, eps, reduc...  \n",
      "1     [apple, aapl, faces, challenges, epic, games, ...  \n",
      "2     [apple, unwittingly, powered, rise, rivals, hu...  \n",
      "3     [apple, aapl, boosts, iphone, production, indi...  \n",
      "4     [apple, advances, ai, chatbot, development, ri...  \n",
      "...                                                 ...  \n",
      "4398  [microscope, apple, stock, thrive, regulatory,...  \n",
      "4399  [nvda, unstoppable, ai, race, buy, nvidia, stock]  \n",
      "4400        [3, bluechip, stock, gems, buy, 500, april]  \n",
      "4401                                    [stocks, today]  \n",
      "4402  [stock, stinkers, 3, warren, buffett, holdings...  \n",
      "\n",
      "[4403 rows x 3 columns]\n"
     ]
    }
   ],
   "source": [
    "import pandas as pd\n",
    "import nltk\n",
    "from nltk.tokenize import word_tokenize\n",
    "\n",
    "# Ensure tokenizer is available\n",
    "nltk.download('punkt')\n",
    "\n",
    "def tokenize_words_column(df, column_name):\n",
    "    \"\"\"\n",
    "    Tokenizes each row in the specified DataFrame column into a list of words.\n",
    "\n",
    "    Parameters:\n",
    "    df (pd.DataFrame): The input DataFrame.\n",
    "    column_name (str): The column containing text data.\n",
    "\n",
    "    Returns:\n",
    "    pd.DataFrame: DataFrame with an added column for word tokens.\n",
    "    \"\"\"\n",
    "    df[column_name + '_tokens'] = df[column_name].astype(str).apply(word_tokenize)\n",
    "    return df\n",
    "\n",
    "\n",
    "\n",
    "# Apply word tokenization\n",
    "df = tokenize_words_column(df, 'Headline')\n",
    "\n",
    "print(df)\n",
    "\n",
    "# changes"
   ]
  },
  {
   "cell_type": "code",
   "execution_count": 18,
   "id": "0d7b08e2",
   "metadata": {},
   "outputs": [
    {
     "data": {
      "text/html": [
       "<div>\n",
       "<style scoped>\n",
       "    .dataframe tbody tr th:only-of-type {\n",
       "        vertical-align: middle;\n",
       "    }\n",
       "\n",
       "    .dataframe tbody tr th {\n",
       "        vertical-align: top;\n",
       "    }\n",
       "\n",
       "    .dataframe thead th {\n",
       "        text-align: right;\n",
       "    }\n",
       "</style>\n",
       "<table border=\"1\" class=\"dataframe\">\n",
       "  <thead>\n",
       "    <tr style=\"text-align: right;\">\n",
       "      <th></th>\n",
       "      <th>Headline</th>\n",
       "      <th>Date</th>\n",
       "      <th>Headline_tokens</th>\n",
       "    </tr>\n",
       "  </thead>\n",
       "  <tbody>\n",
       "    <tr>\n",
       "      <th>0</th>\n",
       "      <td>apple aapl faces potential 20 eps reduction am...</td>\n",
       "      <td>2025-05-20</td>\n",
       "      <td>[apple, aapl, faces, potential, 20, eps, reduc...</td>\n",
       "    </tr>\n",
       "    <tr>\n",
       "      <th>1</th>\n",
       "      <td>apple aapl faces challenges epic games lawsuit...</td>\n",
       "      <td>2025-05-20</td>\n",
       "      <td>[apple, aapl, faces, challenges, epic, games, ...</td>\n",
       "    </tr>\n",
       "    <tr>\n",
       "      <th>2</th>\n",
       "      <td>apple unwittingly powered rise rivals huawei x...</td>\n",
       "      <td>2025-05-20</td>\n",
       "      <td>[apple, unwittingly, powered, rise, rivals, hu...</td>\n",
       "    </tr>\n",
       "    <tr>\n",
       "      <th>3</th>\n",
       "      <td>apple aapl boosts iphone production india amid...</td>\n",
       "      <td>2025-05-20</td>\n",
       "      <td>[apple, aapl, boosts, iphone, production, indi...</td>\n",
       "    </tr>\n",
       "    <tr>\n",
       "      <th>4</th>\n",
       "      <td>apple advances ai chatbot development rivals c...</td>\n",
       "      <td>2025-05-19</td>\n",
       "      <td>[apple, advances, ai, chatbot, development, ri...</td>\n",
       "    </tr>\n",
       "  </tbody>\n",
       "</table>\n",
       "</div>"
      ],
      "text/plain": [
       "                                            Headline        Date  \\\n",
       "0  apple aapl faces potential 20 eps reduction am...  2025-05-20   \n",
       "1  apple aapl faces challenges epic games lawsuit...  2025-05-20   \n",
       "2  apple unwittingly powered rise rivals huawei x...  2025-05-20   \n",
       "3  apple aapl boosts iphone production india amid...  2025-05-20   \n",
       "4  apple advances ai chatbot development rivals c...  2025-05-19   \n",
       "\n",
       "                                     Headline_tokens  \n",
       "0  [apple, aapl, faces, potential, 20, eps, reduc...  \n",
       "1  [apple, aapl, faces, challenges, epic, games, ...  \n",
       "2  [apple, unwittingly, powered, rise, rivals, hu...  \n",
       "3  [apple, aapl, boosts, iphone, production, indi...  \n",
       "4  [apple, advances, ai, chatbot, development, ri...  "
      ]
     },
     "execution_count": 18,
     "metadata": {},
     "output_type": "execute_result"
    }
   ],
   "source": [
    "df.head()"
   ]
  },
  {
   "cell_type": "code",
   "execution_count": 19,
   "id": "8376f802",
   "metadata": {},
   "outputs": [
    {
     "name": "stderr",
     "output_type": "stream",
     "text": [
      "[nltk_data] Downloading package punkt to C:\\Users\\vivek\n",
      "[nltk_data]     gupta\\AppData\\Roaming\\nltk_data...\n",
      "[nltk_data]   Package punkt is already up-to-date!\n",
      "[nltk_data] Downloading package wordnet to C:\\Users\\vivek\n",
      "[nltk_data]     gupta\\AppData\\Roaming\\nltk_data...\n",
      "[nltk_data]   Package wordnet is already up-to-date!\n",
      "[nltk_data] Downloading package omw-1.4 to C:\\Users\\vivek\n",
      "[nltk_data]     gupta\\AppData\\Roaming\\nltk_data...\n",
      "[nltk_data] Downloading package averaged_perceptron_tagger to\n",
      "[nltk_data]     C:\\Users\\vivek gupta\\AppData\\Roaming\\nltk_data...\n",
      "[nltk_data]   Package averaged_perceptron_tagger is already up-to-\n",
      "[nltk_data]       date!\n"
     ]
    }
   ],
   "source": [
    "import nltk\n",
    "from nltk.stem import WordNetLemmatizer\n",
    "from nltk.corpus import wordnet\n",
    "\n",
    "# Make sure required resources are downloaded\n",
    "nltk.download('punkt')\n",
    "nltk.download('wordnet')\n",
    "nltk.download('omw-1.4')\n",
    "nltk.download('averaged_perceptron_tagger')\n",
    "\n",
    "# Helper function to convert POS tag to WordNet format\n",
    "def get_wordnet_pos(tag):\n",
    "    if tag.startswith('J'):\n",
    "        return wordnet.ADJ\n",
    "    elif tag.startswith('V'):\n",
    "        return wordnet.VERB\n",
    "    elif tag.startswith('N'):\n",
    "        return wordnet.NOUN\n",
    "    elif tag.startswith('R'):\n",
    "        return wordnet.ADV\n",
    "    else:\n",
    "        return wordnet.NOUN  # Default to noun\n",
    "\n",
    "# Lemmatization function\n",
    "def lemmatize_tokens(token_list):\n",
    "    lemmatizer = WordNetLemmatizer()\n",
    "    pos_tags = nltk.pos_tag(token_list)\n",
    "    return [lemmatizer.lemmatize(word, get_wordnet_pos(tag)) for word, tag in pos_tags]\n",
    "\n",
    "\n",
    "df['Headline_tokens'] = df['Headline_tokens'].apply(lemmatize_tokens)\n"
   ]
  },
  {
   "cell_type": "code",
   "execution_count": 20,
   "id": "6987cb0b",
   "metadata": {},
   "outputs": [
    {
     "data": {
      "text/html": [
       "<div>\n",
       "<style scoped>\n",
       "    .dataframe tbody tr th:only-of-type {\n",
       "        vertical-align: middle;\n",
       "    }\n",
       "\n",
       "    .dataframe tbody tr th {\n",
       "        vertical-align: top;\n",
       "    }\n",
       "\n",
       "    .dataframe thead th {\n",
       "        text-align: right;\n",
       "    }\n",
       "</style>\n",
       "<table border=\"1\" class=\"dataframe\">\n",
       "  <thead>\n",
       "    <tr style=\"text-align: right;\">\n",
       "      <th></th>\n",
       "      <th>Headline</th>\n",
       "      <th>Date</th>\n",
       "      <th>Headline_tokens</th>\n",
       "    </tr>\n",
       "  </thead>\n",
       "  <tbody>\n",
       "    <tr>\n",
       "      <th>0</th>\n",
       "      <td>apple aapl faces potential 20 eps reduction am...</td>\n",
       "      <td>2025-05-20</td>\n",
       "      <td>[apple, aapl, face, potential, 20, eps, reduct...</td>\n",
       "    </tr>\n",
       "    <tr>\n",
       "      <th>1</th>\n",
       "      <td>apple aapl faces challenges epic games lawsuit...</td>\n",
       "      <td>2025-05-20</td>\n",
       "      <td>[apple, aapl, face, challenge, epic, game, law...</td>\n",
       "    </tr>\n",
       "    <tr>\n",
       "      <th>2</th>\n",
       "      <td>apple unwittingly powered rise rivals huawei x...</td>\n",
       "      <td>2025-05-20</td>\n",
       "      <td>[apple, unwittingly, power, rise, rival, huawe...</td>\n",
       "    </tr>\n",
       "    <tr>\n",
       "      <th>3</th>\n",
       "      <td>apple aapl boosts iphone production india amid...</td>\n",
       "      <td>2025-05-20</td>\n",
       "      <td>[apple, aapl, boost, iphone, production, india...</td>\n",
       "    </tr>\n",
       "    <tr>\n",
       "      <th>4</th>\n",
       "      <td>apple advances ai chatbot development rivals c...</td>\n",
       "      <td>2025-05-19</td>\n",
       "      <td>[apple, advance, ai, chatbot, development, riv...</td>\n",
       "    </tr>\n",
       "  </tbody>\n",
       "</table>\n",
       "</div>"
      ],
      "text/plain": [
       "                                            Headline        Date  \\\n",
       "0  apple aapl faces potential 20 eps reduction am...  2025-05-20   \n",
       "1  apple aapl faces challenges epic games lawsuit...  2025-05-20   \n",
       "2  apple unwittingly powered rise rivals huawei x...  2025-05-20   \n",
       "3  apple aapl boosts iphone production india amid...  2025-05-20   \n",
       "4  apple advances ai chatbot development rivals c...  2025-05-19   \n",
       "\n",
       "                                     Headline_tokens  \n",
       "0  [apple, aapl, face, potential, 20, eps, reduct...  \n",
       "1  [apple, aapl, face, challenge, epic, game, law...  \n",
       "2  [apple, unwittingly, power, rise, rival, huawe...  \n",
       "3  [apple, aapl, boost, iphone, production, india...  \n",
       "4  [apple, advance, ai, chatbot, development, riv...  "
      ]
     },
     "execution_count": 20,
     "metadata": {},
     "output_type": "execute_result"
    }
   ],
   "source": [
    "df.head()"
   ]
  },
  {
   "cell_type": "code",
   "execution_count": 21,
   "id": "a941caef",
   "metadata": {},
   "outputs": [
    {
     "data": {
      "text/plain": [
       "(4403, 3)"
      ]
     },
     "execution_count": 21,
     "metadata": {},
     "output_type": "execute_result"
    }
   ],
   "source": [
    "df.shape"
   ]
  },
  {
   "cell_type": "code",
   "execution_count": null,
   "id": "3f586078",
   "metadata": {},
   "outputs": [],
   "source": [
    "from transformers import pipeline\n",
    "\n",
    "sentiment_model = pipeline(\"sentiment-analysis\")\n",
    "df['sentiment'] = df['clean_text'].apply(lambda x: sentiment_model(x)[0]['label'])\n",
    "df['sentiment_score'] = df['clean_text'].apply(lambda x: sentiment_model(x)[0]['score'])\n"
   ]
  }
 ],
 "metadata": {
  "kernelspec": {
   "display_name": "my_env",
   "language": "python",
   "name": "python3"
  },
  "language_info": {
   "codemirror_mode": {
    "name": "ipython",
    "version": 3
   },
   "file_extension": ".py",
   "mimetype": "text/x-python",
   "name": "python",
   "nbconvert_exporter": "python",
   "pygments_lexer": "ipython3",
   "version": "3.11.0"
  }
 },
 "nbformat": 4,
 "nbformat_minor": 5
}
