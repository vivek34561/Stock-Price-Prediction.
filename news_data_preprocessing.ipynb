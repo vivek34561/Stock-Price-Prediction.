{
 "cells": [
  {
   "cell_type": "code",
   "execution_count": 1,
   "id": "a1ecc3bf",
   "metadata": {},
   "outputs": [],
   "source": [
    "import pandas as pd\n",
    "import numpy as np\n"
   ]
  },
  {
   "cell_type": "code",
   "execution_count": 2,
   "id": "72e734eb",
   "metadata": {},
   "outputs": [],
   "source": [
    "df = pd.read_csv('marketwatch.csv')"
   ]
  },
  {
   "cell_type": "code",
   "execution_count": 3,
   "id": "0dc191cb",
   "metadata": {},
   "outputs": [
    {
     "data": {
      "text/html": [
       "<div>\n",
       "<style scoped>\n",
       "    .dataframe tbody tr th:only-of-type {\n",
       "        vertical-align: middle;\n",
       "    }\n",
       "\n",
       "    .dataframe tbody tr th {\n",
       "        vertical-align: top;\n",
       "    }\n",
       "\n",
       "    .dataframe thead th {\n",
       "        text-align: right;\n",
       "    }\n",
       "</style>\n",
       "<table border=\"1\" class=\"dataframe\">\n",
       "  <thead>\n",
       "    <tr style=\"text-align: right;\">\n",
       "      <th></th>\n",
       "      <th>link</th>\n",
       "      <th>link href</th>\n",
       "      <th>article__summary</th>\n",
       "      <th>article__timestamp</th>\n",
       "      <th>article__provider</th>\n",
       "    </tr>\n",
       "  </thead>\n",
       "  <tbody>\n",
       "    <tr>\n",
       "      <th>0</th>\n",
       "      <td>Apple (AAPL) Faces Potential 20% EPS Reduction...</td>\n",
       "      <td>https://www.gurufocus.com/news/2875490/apple-a...</td>\n",
       "      <td>Apple (AAPL) Faces Potential 20% EPS Reduction...</td>\n",
       "      <td>May. 20, 2025 at 3:10 a.m. ET</td>\n",
       "      <td>on GuruFocus.com</td>\n",
       "    </tr>\n",
       "    <tr>\n",
       "      <th>1</th>\n",
       "      <td>Apple (AAPL) Faces Challenges from Epic Games ...</td>\n",
       "      <td>https://www.gurufocus.com/news/2875401/apple-a...</td>\n",
       "      <td>Apple (AAPL) Faces Challenges from Epic Games ...</td>\n",
       "      <td>May. 20, 2025 at 2:12 a.m. ET</td>\n",
       "      <td>on GuruFocus.com</td>\n",
       "    </tr>\n",
       "    <tr>\n",
       "      <th>2</th>\n",
       "      <td>Apple Unwittingly Powered The Rise of Rivals H...</td>\n",
       "      <td>https://www.benzinga.com/25/05/45510862/apple-...</td>\n",
       "      <td>NaN</td>\n",
       "      <td>May. 20, 2025 at 1:55 a.m. ET</td>\n",
       "      <td>on Benzinga.com</td>\n",
       "    </tr>\n",
       "    <tr>\n",
       "      <th>3</th>\n",
       "      <td>Apple (AAPL) Boosts iPhone Production in India...</td>\n",
       "      <td>https://www.gurufocus.com/news/2875309/apple-a...</td>\n",
       "      <td>Apple (AAPL) Boosts iPhone Production in India...</td>\n",
       "      <td>May. 20, 2025 at 12:40 a.m. ET</td>\n",
       "      <td>on GuruFocus.com</td>\n",
       "    </tr>\n",
       "    <tr>\n",
       "      <th>4</th>\n",
       "      <td>Apple Advances AI Chatbot Development, Rivals ...</td>\n",
       "      <td>https://www.gurufocus.com/news/2875291/apple-a...</td>\n",
       "      <td>Apple Advances AI Chatbot Development, Rivals ...</td>\n",
       "      <td>May. 19, 2025 at 11:10 p.m. ET</td>\n",
       "      <td>on GuruFocus.com</td>\n",
       "    </tr>\n",
       "  </tbody>\n",
       "</table>\n",
       "</div>"
      ],
      "text/plain": [
       "                                                link  \\\n",
       "0  Apple (AAPL) Faces Potential 20% EPS Reduction...   \n",
       "1  Apple (AAPL) Faces Challenges from Epic Games ...   \n",
       "2  Apple Unwittingly Powered The Rise of Rivals H...   \n",
       "3  Apple (AAPL) Boosts iPhone Production in India...   \n",
       "4  Apple Advances AI Chatbot Development, Rivals ...   \n",
       "\n",
       "                                           link href  \\\n",
       "0  https://www.gurufocus.com/news/2875490/apple-a...   \n",
       "1  https://www.gurufocus.com/news/2875401/apple-a...   \n",
       "2  https://www.benzinga.com/25/05/45510862/apple-...   \n",
       "3  https://www.gurufocus.com/news/2875309/apple-a...   \n",
       "4  https://www.gurufocus.com/news/2875291/apple-a...   \n",
       "\n",
       "                                    article__summary  \\\n",
       "0  Apple (AAPL) Faces Potential 20% EPS Reduction...   \n",
       "1  Apple (AAPL) Faces Challenges from Epic Games ...   \n",
       "2                                                NaN   \n",
       "3  Apple (AAPL) Boosts iPhone Production in India...   \n",
       "4  Apple Advances AI Chatbot Development, Rivals ...   \n",
       "\n",
       "               article__timestamp article__provider  \n",
       "0   May. 20, 2025 at 3:10 a.m. ET  on GuruFocus.com  \n",
       "1   May. 20, 2025 at 2:12 a.m. ET  on GuruFocus.com  \n",
       "2   May. 20, 2025 at 1:55 a.m. ET   on Benzinga.com  \n",
       "3  May. 20, 2025 at 12:40 a.m. ET  on GuruFocus.com  \n",
       "4  May. 19, 2025 at 11:10 p.m. ET  on GuruFocus.com  "
      ]
     },
     "execution_count": 3,
     "metadata": {},
     "output_type": "execute_result"
    }
   ],
   "source": [
    "df.head()"
   ]
  },
  {
   "cell_type": "code",
   "execution_count": 4,
   "id": "8fde183b",
   "metadata": {},
   "outputs": [
    {
     "data": {
      "text/html": [
       "<div>\n",
       "<style scoped>\n",
       "    .dataframe tbody tr th:only-of-type {\n",
       "        vertical-align: middle;\n",
       "    }\n",
       "\n",
       "    .dataframe tbody tr th {\n",
       "        vertical-align: top;\n",
       "    }\n",
       "\n",
       "    .dataframe thead th {\n",
       "        text-align: right;\n",
       "    }\n",
       "</style>\n",
       "<table border=\"1\" class=\"dataframe\">\n",
       "  <thead>\n",
       "    <tr style=\"text-align: right;\">\n",
       "      <th></th>\n",
       "      <th>link</th>\n",
       "      <th>link href</th>\n",
       "      <th>article__summary</th>\n",
       "      <th>article__timestamp</th>\n",
       "      <th>article__provider</th>\n",
       "    </tr>\n",
       "  </thead>\n",
       "  <tbody>\n",
       "    <tr>\n",
       "      <th>4424</th>\n",
       "      <td>Under the Microscope: Can Apple Stock Thrive U...</td>\n",
       "      <td>https://investorplace.com/2024/04/under-the-mi...</td>\n",
       "      <td>NaN</td>\n",
       "      <td>Apr. 3, 2024 at 6:30 a.m. ET</td>\n",
       "      <td>on InvestorPlace.com</td>\n",
       "    </tr>\n",
       "    <tr>\n",
       "      <th>4425</th>\n",
       "      <td>NVDA Is Unstoppable in the AI Race. Buy Nvidia...</td>\n",
       "      <td>https://investorplace.com/2024/04/nvda-is-unst...</td>\n",
       "      <td>NaN</td>\n",
       "      <td>Apr. 3, 2024 at 6:07 a.m. ET</td>\n",
       "      <td>on InvestorPlace.com</td>\n",
       "    </tr>\n",
       "    <tr>\n",
       "      <th>4426</th>\n",
       "      <td>3 Blue-Chip Stock Gems to Buy for Under $500 i...</td>\n",
       "      <td>https://investorplace.com/2024/04/3-blue-chip-...</td>\n",
       "      <td>NaN</td>\n",
       "      <td>Apr. 2, 2024 at 5:00 p.m. ET</td>\n",
       "      <td>on InvestorPlace.com</td>\n",
       "    </tr>\n",
       "    <tr>\n",
       "      <th>4427</th>\n",
       "      <td>Why Are Stocks Down Today?</td>\n",
       "      <td>https://investorplace.com/2024/04/why-are-stoc...</td>\n",
       "      <td>NaN</td>\n",
       "      <td>Apr. 2, 2024 at 3:45 p.m. ET</td>\n",
       "      <td>on InvestorPlace.com</td>\n",
       "    </tr>\n",
       "    <tr>\n",
       "      <th>4428</th>\n",
       "      <td>Stock Stinkers: 3 Warren Buffett Holdings Disa...</td>\n",
       "      <td>https://investorplace.com/2024/04/stock-stinke...</td>\n",
       "      <td>NaN</td>\n",
       "      <td>Apr. 2, 2024 at 3:00 p.m. ET</td>\n",
       "      <td>on InvestorPlace.com</td>\n",
       "    </tr>\n",
       "  </tbody>\n",
       "</table>\n",
       "</div>"
      ],
      "text/plain": [
       "                                                   link  \\\n",
       "4424  Under the Microscope: Can Apple Stock Thrive U...   \n",
       "4425  NVDA Is Unstoppable in the AI Race. Buy Nvidia...   \n",
       "4426  3 Blue-Chip Stock Gems to Buy for Under $500 i...   \n",
       "4427                         Why Are Stocks Down Today?   \n",
       "4428  Stock Stinkers: 3 Warren Buffett Holdings Disa...   \n",
       "\n",
       "                                              link href article__summary  \\\n",
       "4424  https://investorplace.com/2024/04/under-the-mi...              NaN   \n",
       "4425  https://investorplace.com/2024/04/nvda-is-unst...              NaN   \n",
       "4426  https://investorplace.com/2024/04/3-blue-chip-...              NaN   \n",
       "4427  https://investorplace.com/2024/04/why-are-stoc...              NaN   \n",
       "4428  https://investorplace.com/2024/04/stock-stinke...              NaN   \n",
       "\n",
       "                article__timestamp     article__provider  \n",
       "4424  Apr. 3, 2024 at 6:30 a.m. ET  on InvestorPlace.com  \n",
       "4425  Apr. 3, 2024 at 6:07 a.m. ET  on InvestorPlace.com  \n",
       "4426  Apr. 2, 2024 at 5:00 p.m. ET  on InvestorPlace.com  \n",
       "4427  Apr. 2, 2024 at 3:45 p.m. ET  on InvestorPlace.com  \n",
       "4428  Apr. 2, 2024 at 3:00 p.m. ET  on InvestorPlace.com  "
      ]
     },
     "execution_count": 4,
     "metadata": {},
     "output_type": "execute_result"
    }
   ],
   "source": [
    "df.tail()"
   ]
  },
  {
   "cell_type": "code",
   "execution_count": 5,
   "id": "f687fcd0",
   "metadata": {},
   "outputs": [
    {
     "data": {
      "text/plain": [
       "(4429, 5)"
      ]
     },
     "execution_count": 5,
     "metadata": {},
     "output_type": "execute_result"
    }
   ],
   "source": [
    "df.shape"
   ]
  },
  {
   "cell_type": "code",
   "execution_count": 9,
   "id": "a7acf21b",
   "metadata": {},
   "outputs": [
    {
     "data": {
      "text/plain": [
       "0       Apple (AAPL) Faces Potential 20% EPS Reduction...\n",
       "1       Apple (AAPL) Faces Challenges from Epic Games ...\n",
       "2       Apple Unwittingly Powered The Rise of Rivals H...\n",
       "3       Apple (AAPL) Boosts iPhone Production in India...\n",
       "4       Apple Advances AI Chatbot Development, Rivals ...\n",
       "                              ...                        \n",
       "4424    Under the Microscope: Can Apple Stock Thrive U...\n",
       "4425    NVDA Is Unstoppable in the AI Race. Buy Nvidia...\n",
       "4426    3 Blue-Chip Stock Gems to Buy for Under $500 i...\n",
       "4427                           Why Are Stocks Down Today?\n",
       "4428    Stock Stinkers: 3 Warren Buffett Holdings Disa...\n",
       "Name: link, Length: 4429, dtype: object"
      ]
     },
     "execution_count": 9,
     "metadata": {},
     "output_type": "execute_result"
    }
   ],
   "source": [
    "df['link']"
   ]
  },
  {
   "cell_type": "code",
   "execution_count": 10,
   "id": "e16693c1",
   "metadata": {},
   "outputs": [],
   "source": [
    "#remove some columns\n",
    "\n",
    "df = df.drop(columns = ['link href', 'article__summary' , 'article__provider'], axis=1)"
   ]
  },
  {
   "cell_type": "code",
   "execution_count": 11,
   "id": "319fac97",
   "metadata": {},
   "outputs": [
    {
     "data": {
      "text/html": [
       "<div>\n",
       "<style scoped>\n",
       "    .dataframe tbody tr th:only-of-type {\n",
       "        vertical-align: middle;\n",
       "    }\n",
       "\n",
       "    .dataframe tbody tr th {\n",
       "        vertical-align: top;\n",
       "    }\n",
       "\n",
       "    .dataframe thead th {\n",
       "        text-align: right;\n",
       "    }\n",
       "</style>\n",
       "<table border=\"1\" class=\"dataframe\">\n",
       "  <thead>\n",
       "    <tr style=\"text-align: right;\">\n",
       "      <th></th>\n",
       "      <th>link</th>\n",
       "      <th>article__timestamp</th>\n",
       "    </tr>\n",
       "  </thead>\n",
       "  <tbody>\n",
       "    <tr>\n",
       "      <th>0</th>\n",
       "      <td>Apple (AAPL) Faces Potential 20% EPS Reduction...</td>\n",
       "      <td>May. 20, 2025 at 3:10 a.m. ET</td>\n",
       "    </tr>\n",
       "    <tr>\n",
       "      <th>1</th>\n",
       "      <td>Apple (AAPL) Faces Challenges from Epic Games ...</td>\n",
       "      <td>May. 20, 2025 at 2:12 a.m. ET</td>\n",
       "    </tr>\n",
       "    <tr>\n",
       "      <th>2</th>\n",
       "      <td>Apple Unwittingly Powered The Rise of Rivals H...</td>\n",
       "      <td>May. 20, 2025 at 1:55 a.m. ET</td>\n",
       "    </tr>\n",
       "    <tr>\n",
       "      <th>3</th>\n",
       "      <td>Apple (AAPL) Boosts iPhone Production in India...</td>\n",
       "      <td>May. 20, 2025 at 12:40 a.m. ET</td>\n",
       "    </tr>\n",
       "    <tr>\n",
       "      <th>4</th>\n",
       "      <td>Apple Advances AI Chatbot Development, Rivals ...</td>\n",
       "      <td>May. 19, 2025 at 11:10 p.m. ET</td>\n",
       "    </tr>\n",
       "  </tbody>\n",
       "</table>\n",
       "</div>"
      ],
      "text/plain": [
       "                                                link  \\\n",
       "0  Apple (AAPL) Faces Potential 20% EPS Reduction...   \n",
       "1  Apple (AAPL) Faces Challenges from Epic Games ...   \n",
       "2  Apple Unwittingly Powered The Rise of Rivals H...   \n",
       "3  Apple (AAPL) Boosts iPhone Production in India...   \n",
       "4  Apple Advances AI Chatbot Development, Rivals ...   \n",
       "\n",
       "               article__timestamp  \n",
       "0   May. 20, 2025 at 3:10 a.m. ET  \n",
       "1   May. 20, 2025 at 2:12 a.m. ET  \n",
       "2   May. 20, 2025 at 1:55 a.m. ET  \n",
       "3  May. 20, 2025 at 12:40 a.m. ET  \n",
       "4  May. 19, 2025 at 11:10 p.m. ET  "
      ]
     },
     "execution_count": 11,
     "metadata": {},
     "output_type": "execute_result"
    }
   ],
   "source": [
    "df.head()"
   ]
  },
  {
   "cell_type": "code",
   "execution_count": 12,
   "id": "56f27ef8",
   "metadata": {},
   "outputs": [],
   "source": [
    "# code to change the columns names\n",
    "df.columns = ['Headline', 'Date']"
   ]
  },
  {
   "cell_type": "code",
   "execution_count": 13,
   "id": "0cc8cda7",
   "metadata": {},
   "outputs": [
    {
     "data": {
      "text/html": [
       "<div>\n",
       "<style scoped>\n",
       "    .dataframe tbody tr th:only-of-type {\n",
       "        vertical-align: middle;\n",
       "    }\n",
       "\n",
       "    .dataframe tbody tr th {\n",
       "        vertical-align: top;\n",
       "    }\n",
       "\n",
       "    .dataframe thead th {\n",
       "        text-align: right;\n",
       "    }\n",
       "</style>\n",
       "<table border=\"1\" class=\"dataframe\">\n",
       "  <thead>\n",
       "    <tr style=\"text-align: right;\">\n",
       "      <th></th>\n",
       "      <th>Headline</th>\n",
       "      <th>Date</th>\n",
       "    </tr>\n",
       "  </thead>\n",
       "  <tbody>\n",
       "    <tr>\n",
       "      <th>0</th>\n",
       "      <td>Apple (AAPL) Faces Potential 20% EPS Reduction...</td>\n",
       "      <td>May. 20, 2025 at 3:10 a.m. ET</td>\n",
       "    </tr>\n",
       "    <tr>\n",
       "      <th>1</th>\n",
       "      <td>Apple (AAPL) Faces Challenges from Epic Games ...</td>\n",
       "      <td>May. 20, 2025 at 2:12 a.m. ET</td>\n",
       "    </tr>\n",
       "    <tr>\n",
       "      <th>2</th>\n",
       "      <td>Apple Unwittingly Powered The Rise of Rivals H...</td>\n",
       "      <td>May. 20, 2025 at 1:55 a.m. ET</td>\n",
       "    </tr>\n",
       "    <tr>\n",
       "      <th>3</th>\n",
       "      <td>Apple (AAPL) Boosts iPhone Production in India...</td>\n",
       "      <td>May. 20, 2025 at 12:40 a.m. ET</td>\n",
       "    </tr>\n",
       "    <tr>\n",
       "      <th>4</th>\n",
       "      <td>Apple Advances AI Chatbot Development, Rivals ...</td>\n",
       "      <td>May. 19, 2025 at 11:10 p.m. ET</td>\n",
       "    </tr>\n",
       "  </tbody>\n",
       "</table>\n",
       "</div>"
      ],
      "text/plain": [
       "                                            Headline  \\\n",
       "0  Apple (AAPL) Faces Potential 20% EPS Reduction...   \n",
       "1  Apple (AAPL) Faces Challenges from Epic Games ...   \n",
       "2  Apple Unwittingly Powered The Rise of Rivals H...   \n",
       "3  Apple (AAPL) Boosts iPhone Production in India...   \n",
       "4  Apple Advances AI Chatbot Development, Rivals ...   \n",
       "\n",
       "                             Date  \n",
       "0   May. 20, 2025 at 3:10 a.m. ET  \n",
       "1   May. 20, 2025 at 2:12 a.m. ET  \n",
       "2   May. 20, 2025 at 1:55 a.m. ET  \n",
       "3  May. 20, 2025 at 12:40 a.m. ET  \n",
       "4  May. 19, 2025 at 11:10 p.m. ET  "
      ]
     },
     "execution_count": 13,
     "metadata": {},
     "output_type": "execute_result"
    }
   ],
   "source": [
    "df.head()"
   ]
  },
  {
   "cell_type": "code",
   "execution_count": 14,
   "id": "4d56fcb7",
   "metadata": {},
   "outputs": [
    {
     "name": "stdout",
     "output_type": "stream",
     "text": [
      "<class 'pandas.core.frame.DataFrame'>\n",
      "RangeIndex: 4429 entries, 0 to 4428\n",
      "Data columns (total 2 columns):\n",
      " #   Column    Non-Null Count  Dtype \n",
      "---  ------    --------------  ----- \n",
      " 0   Headline  4429 non-null   object\n",
      " 1   Date      4429 non-null   object\n",
      "dtypes: object(2)\n",
      "memory usage: 69.3+ KB\n"
     ]
    }
   ],
   "source": [
    "df.info()"
   ]
  },
  {
   "cell_type": "code",
   "execution_count": 15,
   "id": "f0933ff5",
   "metadata": {},
   "outputs": [],
   "source": [
    "import pandas as pd\n",
    "import re\n",
    "\n",
    "# Remove unwanted parts like 'at ... ET'\n",
    "df['Date'] = df['Date'].astype(str).str.extract(r'([A-Za-z]+\\.? \\d{1,2}, \\d{4})')[0]\n",
    "\n",
    "# Convert to datetime\n",
    "df['Date'] = pd.to_datetime(df['Date'], format='%b. %d, %Y', errors='coerce')\n"
   ]
  },
  {
   "cell_type": "code",
   "execution_count": 16,
   "id": "300c333c",
   "metadata": {},
   "outputs": [
    {
     "data": {
      "text/html": [
       "<div>\n",
       "<style scoped>\n",
       "    .dataframe tbody tr th:only-of-type {\n",
       "        vertical-align: middle;\n",
       "    }\n",
       "\n",
       "    .dataframe tbody tr th {\n",
       "        vertical-align: top;\n",
       "    }\n",
       "\n",
       "    .dataframe thead th {\n",
       "        text-align: right;\n",
       "    }\n",
       "</style>\n",
       "<table border=\"1\" class=\"dataframe\">\n",
       "  <thead>\n",
       "    <tr style=\"text-align: right;\">\n",
       "      <th></th>\n",
       "      <th>Headline</th>\n",
       "      <th>Date</th>\n",
       "    </tr>\n",
       "  </thead>\n",
       "  <tbody>\n",
       "    <tr>\n",
       "      <th>0</th>\n",
       "      <td>Apple (AAPL) Faces Potential 20% EPS Reduction...</td>\n",
       "      <td>2025-05-20</td>\n",
       "    </tr>\n",
       "    <tr>\n",
       "      <th>1</th>\n",
       "      <td>Apple (AAPL) Faces Challenges from Epic Games ...</td>\n",
       "      <td>2025-05-20</td>\n",
       "    </tr>\n",
       "    <tr>\n",
       "      <th>2</th>\n",
       "      <td>Apple Unwittingly Powered The Rise of Rivals H...</td>\n",
       "      <td>2025-05-20</td>\n",
       "    </tr>\n",
       "    <tr>\n",
       "      <th>3</th>\n",
       "      <td>Apple (AAPL) Boosts iPhone Production in India...</td>\n",
       "      <td>2025-05-20</td>\n",
       "    </tr>\n",
       "    <tr>\n",
       "      <th>4</th>\n",
       "      <td>Apple Advances AI Chatbot Development, Rivals ...</td>\n",
       "      <td>2025-05-19</td>\n",
       "    </tr>\n",
       "  </tbody>\n",
       "</table>\n",
       "</div>"
      ],
      "text/plain": [
       "                                            Headline       Date\n",
       "0  Apple (AAPL) Faces Potential 20% EPS Reduction... 2025-05-20\n",
       "1  Apple (AAPL) Faces Challenges from Epic Games ... 2025-05-20\n",
       "2  Apple Unwittingly Powered The Rise of Rivals H... 2025-05-20\n",
       "3  Apple (AAPL) Boosts iPhone Production in India... 2025-05-20\n",
       "4  Apple Advances AI Chatbot Development, Rivals ... 2025-05-19"
      ]
     },
     "execution_count": 16,
     "metadata": {},
     "output_type": "execute_result"
    }
   ],
   "source": [
    "df.head()"
   ]
  },
  {
   "cell_type": "code",
   "execution_count": 17,
   "id": "f27e00bc",
   "metadata": {},
   "outputs": [
    {
     "data": {
      "text/plain": [
       "Headline    0\n",
       "Date        0\n",
       "dtype: int64"
      ]
     },
     "execution_count": 17,
     "metadata": {},
     "output_type": "execute_result"
    }
   ],
   "source": [
    "df.isnull().sum()"
   ]
  },
  {
   "cell_type": "code",
   "execution_count": 18,
   "id": "dff13932",
   "metadata": {},
   "outputs": [
    {
     "data": {
      "text/plain": [
       "np.int64(26)"
      ]
     },
     "execution_count": 18,
     "metadata": {},
     "output_type": "execute_result"
    }
   ],
   "source": [
    "df.duplicated().sum()"
   ]
  },
  {
   "cell_type": "code",
   "execution_count": 19,
   "id": "4d8c20bd",
   "metadata": {},
   "outputs": [
    {
     "data": {
      "text/plain": [
       "(4429, 2)"
      ]
     },
     "execution_count": 19,
     "metadata": {},
     "output_type": "execute_result"
    }
   ],
   "source": [
    "df.shape"
   ]
  },
  {
   "cell_type": "code",
   "execution_count": 21,
   "id": "2311b556",
   "metadata": {},
   "outputs": [
    {
     "data": {
      "text/plain": [
       "(4403, 2)"
      ]
     },
     "execution_count": 21,
     "metadata": {},
     "output_type": "execute_result"
    }
   ],
   "source": [
    "# drop duplicates\n",
    "\n",
    "df = df.drop_duplicates()\n",
    "df.shape\n"
   ]
  },
  {
   "cell_type": "code",
   "execution_count": 22,
   "id": "f9c0736b",
   "metadata": {},
   "outputs": [],
   "source": [
    "df.to_csv('cleaned_news_data.csv', index=False)"
   ]
  },
  {
   "cell_type": "code",
   "execution_count": 23,
   "id": "c5572919",
   "metadata": {},
   "outputs": [
    {
     "data": {
      "text/html": [
       "<div>\n",
       "<style scoped>\n",
       "    .dataframe tbody tr th:only-of-type {\n",
       "        vertical-align: middle;\n",
       "    }\n",
       "\n",
       "    .dataframe tbody tr th {\n",
       "        vertical-align: top;\n",
       "    }\n",
       "\n",
       "    .dataframe thead th {\n",
       "        text-align: right;\n",
       "    }\n",
       "</style>\n",
       "<table border=\"1\" class=\"dataframe\">\n",
       "  <thead>\n",
       "    <tr style=\"text-align: right;\">\n",
       "      <th></th>\n",
       "      <th>Headline</th>\n",
       "      <th>Date</th>\n",
       "    </tr>\n",
       "  </thead>\n",
       "  <tbody>\n",
       "    <tr>\n",
       "      <th>0</th>\n",
       "      <td>Apple (AAPL) Faces Potential 20% EPS Reduction...</td>\n",
       "      <td>2025-05-20</td>\n",
       "    </tr>\n",
       "    <tr>\n",
       "      <th>1</th>\n",
       "      <td>Apple (AAPL) Faces Challenges from Epic Games ...</td>\n",
       "      <td>2025-05-20</td>\n",
       "    </tr>\n",
       "    <tr>\n",
       "      <th>2</th>\n",
       "      <td>Apple Unwittingly Powered The Rise of Rivals H...</td>\n",
       "      <td>2025-05-20</td>\n",
       "    </tr>\n",
       "    <tr>\n",
       "      <th>3</th>\n",
       "      <td>Apple (AAPL) Boosts iPhone Production in India...</td>\n",
       "      <td>2025-05-20</td>\n",
       "    </tr>\n",
       "    <tr>\n",
       "      <th>4</th>\n",
       "      <td>Apple Advances AI Chatbot Development, Rivals ...</td>\n",
       "      <td>2025-05-19</td>\n",
       "    </tr>\n",
       "  </tbody>\n",
       "</table>\n",
       "</div>"
      ],
      "text/plain": [
       "                                            Headline       Date\n",
       "0  Apple (AAPL) Faces Potential 20% EPS Reduction... 2025-05-20\n",
       "1  Apple (AAPL) Faces Challenges from Epic Games ... 2025-05-20\n",
       "2  Apple Unwittingly Powered The Rise of Rivals H... 2025-05-20\n",
       "3  Apple (AAPL) Boosts iPhone Production in India... 2025-05-20\n",
       "4  Apple Advances AI Chatbot Development, Rivals ... 2025-05-19"
      ]
     },
     "execution_count": 23,
     "metadata": {},
     "output_type": "execute_result"
    }
   ],
   "source": [
    "df.head()"
   ]
  },
  {
   "cell_type": "code",
   "execution_count": null,
   "id": "94770beb",
   "metadata": {},
   "outputs": [],
   "source": []
  }
 ],
 "metadata": {
  "kernelspec": {
   "display_name": "my_env",
   "language": "python",
   "name": "python3"
  },
  "language_info": {
   "codemirror_mode": {
    "name": "ipython",
    "version": 3
   },
   "file_extension": ".py",
   "mimetype": "text/x-python",
   "name": "python",
   "nbconvert_exporter": "python",
   "pygments_lexer": "ipython3",
   "version": "3.11.0"
  }
 },
 "nbformat": 4,
 "nbformat_minor": 5
}
